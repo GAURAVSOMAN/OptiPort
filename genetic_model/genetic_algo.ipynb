{
 "cells": [
  {
   "cell_type": "code",
   "execution_count": 12,
   "metadata": {},
   "outputs": [],
   "source": [
    "import numpy as np \n",
    "import pandas as pd \n",
    "from functools import reduce \n",
    "import time"
   ]
  },
  {
   "cell_type": "code",
   "execution_count": 8,
   "metadata": {},
   "outputs": [
    {
     "name": "stdout",
     "output_type": "stream",
     "text": [
      "(411, 6)\n"
     ]
    },
    {
     "data": {
      "text/html": [
       "<div>\n",
       "<style scoped>\n",
       "    .dataframe tbody tr th:only-of-type {\n",
       "        vertical-align: middle;\n",
       "    }\n",
       "\n",
       "    .dataframe tbody tr th {\n",
       "        vertical-align: top;\n",
       "    }\n",
       "\n",
       "    .dataframe thead th {\n",
       "        text-align: right;\n",
       "    }\n",
       "</style>\n",
       "<table border=\"1\" class=\"dataframe\">\n",
       "  <thead>\n",
       "    <tr style=\"text-align: right;\">\n",
       "      <th></th>\n",
       "      <th>Date</th>\n",
       "      <th>HDFCBANK</th>\n",
       "      <th>ITC</th>\n",
       "      <th>LT</th>\n",
       "      <th>M&amp;M</th>\n",
       "      <th>TCS</th>\n",
       "    </tr>\n",
       "  </thead>\n",
       "  <tbody>\n",
       "    <tr>\n",
       "      <th>0</th>\n",
       "      <td>2022-01-03</td>\n",
       "      <td>1519.650024</td>\n",
       "      <td>219.100006</td>\n",
       "      <td>1922.849976</td>\n",
       "      <td>829.799988</td>\n",
       "      <td>3817.750000</td>\n",
       "    </tr>\n",
       "    <tr>\n",
       "      <th>1</th>\n",
       "      <td>2022-01-04</td>\n",
       "      <td>1528.550049</td>\n",
       "      <td>220.250000</td>\n",
       "      <td>1937.550049</td>\n",
       "      <td>831.849976</td>\n",
       "      <td>3884.750000</td>\n",
       "    </tr>\n",
       "    <tr>\n",
       "      <th>2</th>\n",
       "      <td>2022-01-05</td>\n",
       "      <td>1564.849976</td>\n",
       "      <td>220.550003</td>\n",
       "      <td>1948.599976</td>\n",
       "      <td>839.500000</td>\n",
       "      <td>3860.949951</td>\n",
       "    </tr>\n",
       "    <tr>\n",
       "      <th>3</th>\n",
       "      <td>2022-01-06</td>\n",
       "      <td>1539.750000</td>\n",
       "      <td>218.699997</td>\n",
       "      <td>1924.500000</td>\n",
       "      <td>839.849976</td>\n",
       "      <td>3807.449951</td>\n",
       "    </tr>\n",
       "    <tr>\n",
       "      <th>4</th>\n",
       "      <td>2022-01-07</td>\n",
       "      <td>1550.550049</td>\n",
       "      <td>218.399994</td>\n",
       "      <td>1904.900024</td>\n",
       "      <td>829.000000</td>\n",
       "      <td>3853.500000</td>\n",
       "    </tr>\n",
       "  </tbody>\n",
       "</table>\n",
       "</div>"
      ],
      "text/plain": [
       "         Date     HDFCBANK         ITC           LT         M&M          TCS\n",
       "0  2022-01-03  1519.650024  219.100006  1922.849976  829.799988  3817.750000\n",
       "1  2022-01-04  1528.550049  220.250000  1937.550049  831.849976  3884.750000\n",
       "2  2022-01-05  1564.849976  220.550003  1948.599976  839.500000  3860.949951\n",
       "3  2022-01-06  1539.750000  218.699997  1924.500000  839.849976  3807.449951\n",
       "4  2022-01-07  1550.550049  218.399994  1904.900024  829.000000  3853.500000"
      ]
     },
     "execution_count": 8,
     "metadata": {},
     "output_type": "execute_result"
    }
   ],
   "source": [
    "files = ['HDFCBANK.csv','ITC.csv','LT.csv','M&M.csv','TCS.csv']\n",
    "dfs = []\n",
    "\n",
    "for file in files : \n",
    "    temp = pd.read_csv('./data/'+file)\n",
    "    temp.columns = ['Date',file.replace('.csv','')]\n",
    "    dfs.append(temp)\n",
    "\n",
    "stocks = reduce(lambda left ,right : pd.merge(left,right,on='Date'),dfs)\n",
    "print(stocks.shape)\n",
    "stocks.head()"
   ]
  },
  {
   "cell_type": "code",
   "execution_count": 9,
   "metadata": {},
   "outputs": [],
   "source": [
    "def hist_return(months): \n",
    "    idx = []\n",
    "    df = pd.DataFrame()\n",
    "    for mon in months : \n",
    "        temp =(stocks.iloc[0,1:] - stocks.iloc[mon,1:])/(stocks.iloc[mon,1:])\n",
    "        idx.append(str(mon)+\"_mon_return\")\n",
    "        df = pd.concat([df,temp.to_frame().T] ,ignore_index=True)\n",
    "    df.index = idx\n",
    "    return df "
   ]
  },
  {
   "cell_type": "code",
   "execution_count": 10,
   "metadata": {},
   "outputs": [
    {
     "data": {
      "text/html": [
       "<div>\n",
       "<style scoped>\n",
       "    .dataframe tbody tr th:only-of-type {\n",
       "        vertical-align: middle;\n",
       "    }\n",
       "\n",
       "    .dataframe tbody tr th {\n",
       "        vertical-align: top;\n",
       "    }\n",
       "\n",
       "    .dataframe thead th {\n",
       "        text-align: right;\n",
       "    }\n",
       "</style>\n",
       "<table border=\"1\" class=\"dataframe\">\n",
       "  <thead>\n",
       "    <tr style=\"text-align: right;\">\n",
       "      <th></th>\n",
       "      <th>HDFCBANK</th>\n",
       "      <th>ITC</th>\n",
       "      <th>LT</th>\n",
       "      <th>M&amp;M</th>\n",
       "      <th>TCS</th>\n",
       "    </tr>\n",
       "  </thead>\n",
       "  <tbody>\n",
       "    <tr>\n",
       "      <th>3_mon_return</th>\n",
       "      <td>-0.013054</td>\n",
       "      <td>0.001829</td>\n",
       "      <td>-0.000857</td>\n",
       "      <td>-0.011966</td>\n",
       "      <td>0.002705</td>\n",
       "    </tr>\n",
       "    <tr>\n",
       "      <th>6_mon_return</th>\n",
       "      <td>-0.029536</td>\n",
       "      <td>-0.012841</td>\n",
       "      <td>-0.019529</td>\n",
       "      <td>-0.013787</td>\n",
       "      <td>-0.025064</td>\n",
       "    </tr>\n",
       "    <tr>\n",
       "      <th>12_mon_return</th>\n",
       "      <td>0.00079</td>\n",
       "      <td>-0.005673</td>\n",
       "      <td>-0.048518</td>\n",
       "      <td>-0.072227</td>\n",
       "      <td>-0.024753</td>\n",
       "    </tr>\n",
       "    <tr>\n",
       "      <th>24_mon_return</th>\n",
       "      <td>0.035078</td>\n",
       "      <td>-0.048219</td>\n",
       "      <td>0.02035</td>\n",
       "      <td>0.000362</td>\n",
       "      <td>0.010254</td>\n",
       "    </tr>\n",
       "    <tr>\n",
       "      <th>36_mon_return</th>\n",
       "      <td>0.012493</td>\n",
       "      <td>0.014587</td>\n",
       "      <td>0.056337</td>\n",
       "      <td>-0.024109</td>\n",
       "      <td>0.071258</td>\n",
       "    </tr>\n",
       "  </tbody>\n",
       "</table>\n",
       "</div>"
      ],
      "text/plain": [
       "               HDFCBANK       ITC        LT       M&M       TCS\n",
       "3_mon_return  -0.013054  0.001829 -0.000857 -0.011966  0.002705\n",
       "6_mon_return  -0.029536 -0.012841 -0.019529 -0.013787 -0.025064\n",
       "12_mon_return   0.00079 -0.005673 -0.048518 -0.072227 -0.024753\n",
       "24_mon_return  0.035078 -0.048219   0.02035  0.000362  0.010254\n",
       "36_mon_return  0.012493  0.014587  0.056337 -0.024109  0.071258"
      ]
     },
     "execution_count": 10,
     "metadata": {},
     "output_type": "execute_result"
    }
   ],
   "source": [
    "hist_stocks_returns = hist_return([3,6,12,24,36])\n",
    "hist_stocks_returns"
   ]
  },
  {
   "cell_type": "code",
   "execution_count": 7,
   "metadata": {},
   "outputs": [
    {
     "data": {
      "text/html": [
       "<div>\n",
       "<style scoped>\n",
       "    .dataframe tbody tr th:only-of-type {\n",
       "        vertical-align: middle;\n",
       "    }\n",
       "\n",
       "    .dataframe tbody tr th {\n",
       "        vertical-align: top;\n",
       "    }\n",
       "\n",
       "    .dataframe thead th {\n",
       "        text-align: right;\n",
       "    }\n",
       "</style>\n",
       "<table border=\"1\" class=\"dataframe\">\n",
       "  <thead>\n",
       "    <tr style=\"text-align: right;\">\n",
       "      <th></th>\n",
       "      <th>Date</th>\n",
       "      <th>Adj Close</th>\n",
       "    </tr>\n",
       "  </thead>\n",
       "  <tbody>\n",
       "    <tr>\n",
       "      <th>0</th>\n",
       "      <td>2022-01-03</td>\n",
       "      <td>1485.152466</td>\n",
       "    </tr>\n",
       "    <tr>\n",
       "      <th>1</th>\n",
       "      <td>2022-01-04</td>\n",
       "      <td>1493.850464</td>\n",
       "    </tr>\n",
       "    <tr>\n",
       "      <th>2</th>\n",
       "      <td>2022-01-05</td>\n",
       "      <td>1529.326416</td>\n",
       "    </tr>\n",
       "    <tr>\n",
       "      <th>3</th>\n",
       "      <td>2022-01-06</td>\n",
       "      <td>1504.796143</td>\n",
       "    </tr>\n",
       "    <tr>\n",
       "      <th>4</th>\n",
       "      <td>2022-01-07</td>\n",
       "      <td>1515.351074</td>\n",
       "    </tr>\n",
       "    <tr>\n",
       "      <th>...</th>\n",
       "      <td>...</td>\n",
       "      <td>...</td>\n",
       "    </tr>\n",
       "    <tr>\n",
       "      <th>406</th>\n",
       "      <td>2023-08-23</td>\n",
       "      <td>1586.599976</td>\n",
       "    </tr>\n",
       "    <tr>\n",
       "      <th>407</th>\n",
       "      <td>2023-08-24</td>\n",
       "      <td>1579.300049</td>\n",
       "    </tr>\n",
       "    <tr>\n",
       "      <th>408</th>\n",
       "      <td>2023-08-25</td>\n",
       "      <td>1561.500000</td>\n",
       "    </tr>\n",
       "    <tr>\n",
       "      <th>409</th>\n",
       "      <td>2023-08-28</td>\n",
       "      <td>1577.750000</td>\n",
       "    </tr>\n",
       "    <tr>\n",
       "      <th>410</th>\n",
       "      <td>2023-08-29</td>\n",
       "      <td>1590.300049</td>\n",
       "    </tr>\n",
       "  </tbody>\n",
       "</table>\n",
       "<p>411 rows × 2 columns</p>\n",
       "</div>"
      ],
      "text/plain": [
       "           Date    Adj Close\n",
       "0    2022-01-03  1485.152466\n",
       "1    2022-01-04  1493.850464\n",
       "2    2022-01-05  1529.326416\n",
       "3    2022-01-06  1504.796143\n",
       "4    2022-01-07  1515.351074\n",
       "..          ...          ...\n",
       "406  2023-08-23  1586.599976\n",
       "407  2023-08-24  1579.300049\n",
       "408  2023-08-25  1561.500000\n",
       "409  2023-08-28  1577.750000\n",
       "410  2023-08-29  1590.300049\n",
       "\n",
       "[411 rows x 2 columns]"
      ]
     },
     "execution_count": 7,
     "metadata": {},
     "output_type": "execute_result"
    }
   ],
   "source": [
    "pd.read_csv('./data/HDFCBANK.csv')"
   ]
  },
  {
   "cell_type": "code",
   "execution_count": 11,
   "metadata": {},
   "outputs": [
    {
     "data": {
      "text/plain": [
       "0.5653856826001153"
      ]
     },
     "execution_count": 11,
     "metadata": {},
     "output_type": "execute_result"
    }
   ],
   "source": [
    "gene = np.random.rand()\n",
    "gene"
   ]
  },
  {
   "cell_type": "code",
   "execution_count": 13,
   "metadata": {},
   "outputs": [],
   "source": [
    "def gene_mc_grid(rows,cols,n,N): \n",
    "    np.random.seed(seed=int(time.time()))\n",
    "    layouts = np.zeros((n,rows*cols),dtype=np.int32)\n",
    "    positionX = np.random.randint(0 ,cols , size=(N * n * 2))\n",
    "    positionY = np.random.randint(0 ,rows, size=(N *n * 2))\n",
    "    ind_rows = 0 \n",
    "    ind_pos = 0\n",
    "\n",
    "    while ind_rows < n : \n",
    "        layouts[ind_rows , positionX[ind_pos] + positionY[ind_pos] * cols] = 1 \n",
    "        if np.sum(layouts[ind_rows , :]) == N : \n",
    "            ind_rows += 1 \n",
    "        ind_pos += 1 \n",
    "        if ind_pos >= N * n * 2 : \n",
    "            print(\"Not enough postiton\")\n",
    "            break \n",
    "\n",
    "    return layouts\n",
    "\n",
    "\n",
    "def gene_mc_grid_with_NA_loc(rows,cols,n,N,NA_loc): \n",
    "    np.random.seed(seed=int(time.time()))\n",
    "    layouts = np.zeros((n,rows*cols),dtype=np.int32)\n",
    "    layouts_NA = np.zeros((n , rows*cols), dtype=np.int32)\n",
    "    for i in NA_loc : \n",
    "        layouts_NA[: ,i-1]=2 \n",
    "\n",
    "    positionX = np.random.randint(0 ,cols , size=(N * n * 2))\n",
    "    positionY = np.random.randint(0 ,rows, size=(N *n * 2))\n",
    "    ind_rows = 0 \n",
    "    ind_pos = 0\n",
    "\n",
    "    N_count = 0 \n",
    "    while ind_rows < n : \n",
    "        cur_state = layouts_NA[ind_rows,positionX[ind_pos] +    positionY[ind_pos]*cols]\n",
    "        if cur_state != 1 and cur_state !=2 : \n",
    "            layouts[ind_rows,positionX[ind_pos] + positionY[ind_pos]*cols]=1 \n",
    "            layouts_NA[ind_rows,positionX[ind_pos] + positionY[ind_pos]*cols]=1\n",
    "            N_count += 1 \n",
    "        \n",
    "            if np.sum(layouts[ind_rows , :]) == N : \n",
    "                ind_rows += 1 \n",
    "                N_count = 0 \n",
    "        ind_pos += 1 \n",
    "        if ind_pos >= N * n * 2 : \n",
    "            print(\"Not enough positions\")\n",
    "            break \n",
    "    \n",
    "    return layouts , layouts_NA \n",
    "        "
   ]
  },
  {
   "cell_type": "code",
   "execution_count": 14,
   "metadata": {},
   "outputs": [
    {
     "name": "stdout",
     "output_type": "stream",
     "text": [
      "Not enough postiton\n",
      "Not enough positions\n"
     ]
    },
    {
     "data": {
      "text/plain": [
       "(array([[0, 0, 0, ..., 1, 1, 0],\n",
       "        [0, 0, 0, ..., 0, 0, 0],\n",
       "        [0, 0, 0, ..., 0, 0, 0],\n",
       "        ...,\n",
       "        [0, 0, 0, ..., 0, 0, 0],\n",
       "        [0, 0, 0, ..., 0, 0, 0],\n",
       "        [0, 0, 0, ..., 0, 0, 0]]),\n",
       " array([[2, 2, 2, ..., 1, 1, 2],\n",
       "        [2, 2, 2, ..., 0, 0, 2],\n",
       "        [2, 2, 2, ..., 0, 0, 2],\n",
       "        ...,\n",
       "        [2, 2, 2, ..., 0, 0, 2],\n",
       "        [2, 2, 2, ..., 0, 0, 2],\n",
       "        [2, 2, 2, ..., 0, 0, 2]]))"
      ]
     },
     "execution_count": 14,
     "metadata": {},
     "output_type": "execute_result"
    }
   ],
   "source": [
    "gene_mc_grid(5, 5, 100, 50)\n",
    "gene_mc_grid_with_NA_loc(5, 5, 100, 50,range(10))"
   ]
  },
  {
   "cell_type": "code",
   "execution_count": 17,
   "metadata": {},
   "outputs": [
    {
     "name": "stdout",
     "output_type": "stream",
     "text": [
      "[0.10682904 0.09328513 0.05295805 0.36409863 0.38282914] 1.0\n"
     ]
    }
   ],
   "source": [
    "def chromosome(n): \n",
    "    ch = np.random.rand(n)\n",
    "    return ch / sum(ch)\n",
    "\n",
    "child = chromosome(5)\n",
    "print(child , sum(child))"
   ]
  }
 ],
 "metadata": {
  "kernelspec": {
   "display_name": "base",
   "language": "python",
   "name": "python3"
  },
  "language_info": {
   "codemirror_mode": {
    "name": "ipython",
    "version": 3
   },
   "file_extension": ".py",
   "mimetype": "text/x-python",
   "name": "python",
   "nbconvert_exporter": "python",
   "pygments_lexer": "ipython3",
   "version": "3.9.12"
  },
  "orig_nbformat": 4
 },
 "nbformat": 4,
 "nbformat_minor": 2
}
